{
 "cells": [
  {
   "cell_type": "code",
   "execution_count": 17,
   "metadata": {},
   "outputs": [],
   "source": [
    "import math\n",
    "import json\n",
    "import requests\n",
    "import itertools\n",
    "import numpy as np\n",
    "import time\n",
    "from datetime import datetime, timedelta"
   ]
  },
  {
   "cell_type": "code",
   "execution_count": 28,
   "metadata": {},
   "outputs": [
    {
     "name": "stdout",
     "output_type": "stream",
     "text": [
      "Cannot establish connection or wrong uri https://api.pushshift.ioo/reddit/search/submission/?q=science&size=2&fields=selftext,title,author,url,id,full_link\n"
     ]
    }
   ],
   "source": [
    "\n",
    "def make_request(uri, max_retries = 5):\n",
    "    current_try = 1\n",
    "    def fire_away(uri,current_try):\n",
    "        if current_try < max_retries:\n",
    "            try:\n",
    "                response = requests.get(uri)\n",
    "                if response.status_code == 200:\n",
    "                    return json.loads(response.content)\n",
    "            except:\n",
    "                current_try+=1\n",
    "                time.sleep(1)\n",
    "                fire_away(uri,current_try)\n",
    "        else:\n",
    "            print('Cannot establish connection or wrong uri',uri)\n",
    "            return None\n",
    "    return fire_away(uri,current_try)\n",
    "\n",
    "#make_request('https://api.pushshift.ioo/reddit/search/submission/?q=science&size=2&fields=selftext,title,author,url,id,full_link')    "
   ]
  },
  {
   "cell_type": "code",
   "execution_count": 29,
   "metadata": {},
   "outputs": [
    {
     "name": "stdout",
     "output_type": "stream",
     "text": [
      "1550494635\n"
     ]
    }
   ],
   "source": [
    "end_at = math.ceil(datetime.utcnow().timestamp())\n",
    "print(end_at)"
   ]
  },
  {
   "cell_type": "code",
   "execution_count": null,
   "metadata": {},
   "outputs": [],
   "source": []
  }
 ],
 "metadata": {
  "kernelspec": {
   "display_name": "Python (topicModeling)",
   "language": "python",
   "name": "topicmodeling"
  },
  "language_info": {
   "codemirror_mode": {
    "name": "ipython",
    "version": 3
   },
   "file_extension": ".py",
   "mimetype": "text/x-python",
   "name": "python",
   "nbconvert_exporter": "python",
   "pygments_lexer": "ipython3",
   "version": "3.7.2"
  }
 },
 "nbformat": 4,
 "nbformat_minor": 2
}
