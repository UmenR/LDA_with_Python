{
 "cells": [
  {
   "cell_type": "code",
   "execution_count": 1,
   "metadata": {},
   "outputs": [],
   "source": [
    "import math\n",
    "import json\n",
    "import requests\n",
    "import itertools\n",
    "import numpy as np\n",
    "import time\n",
    "import praw\n",
    "from datetime import datetime, timedelta"
   ]
  },
  {
   "cell_type": "code",
   "execution_count": 3,
   "metadata": {},
   "outputs": [],
   "source": [
    "\n",
    "def make_request(uri, max_retries = 5):\n",
    "    current_try = 1\n",
    "    def fire_away(uri,current_try):\n",
    "        if current_try < max_retries:\n",
    "            try:\n",
    "                response = requests.get(uri)\n",
    "                if response.status_code == 200:\n",
    "                    return json.loads(response.content)\n",
    "            except:\n",
    "                current_try+=1\n",
    "                time.sleep(1)\n",
    "                fire_away(uri,current_try)\n",
    "        else:\n",
    "            print('Cannot establish connection or wrong uri',uri)\n",
    "            return None\n",
    "    return fire_away(uri,current_try)\n",
    "\n",
    "#make_request('https://api.pushshift.ioo/reddit/search/submission/?q=science&size=2&fields=selftext,title,author,url,id,full_link')    "
   ]
  },
  {
   "cell_type": "code",
   "execution_count": 11,
   "metadata": {},
   "outputs": [
    {
     "name": "stdout",
     "output_type": "stream",
     "text": [
      "{'data': [{'author': 'QuirkySpiceBush', 'full_link': 'https://www.reddit.com/r/news/comments/ascqma/israel_shoots_for_the_moon_with_privately_funded/', 'id': 'ascqma', 'selftext': '', 'title': 'Israel shoots for the moon with privately funded spacecraft', 'url': 'https://www.cnn.com/2019/02/18/middleeast/israel-spacecraft-beresheet-launch-intl/index.html'}, {'author': 'csaabc', 'full_link': 'https://www.reddit.com/r/news/comments/ascqe4/csa_course/', 'id': 'ascqe4', 'selftext': '', 'title': 'CSA Course', 'url': 'https://www.classifiedads.com/training_education/f9f9wb6dw1898'}]}\n"
     ]
    }
   ],
   "source": [
    "\n",
    "def run_per_day(subreddit,start,end):\n",
    "    uri = 'https://api.pushshift.io/reddit/search/submission/?subreddit={}&size=2&fields=selftext,title,author,url,id,full_link&before={}&after{}'\n",
    "    uri=uri.format(subreddit,start,end)\n",
    "    #print(uri)\n",
    "    response=make_request(uri)\n",
    "    print(response)\n",
    "    # Collect comments for each submission\n",
    "    # Save to file\n",
    "    # id w44W3IfIXbrE8w\n",
    "    # key j0el6C-wFuaSrMlPeA94aCXRWVQ\n",
    "\n",
    "    \n",
    "run_per_day('news',1550596542,1550682943)\n"
   ]
  },
  {
   "cell_type": "code",
   "execution_count": 2,
   "metadata": {},
   "outputs": [
    {
     "name": "stdout",
     "output_type": "stream",
     "text": [
      "https://www.reddit.com/api/v1/authorize?client_id=w44W3IfIXbrE8w&duration=permanent&redirect_uri=http%3A%2F%2Flocalhost%3A8080&response_type=code&scope=identity&state=...\n"
     ]
    }
   ],
   "source": [
    "reddit = praw.Reddit(client_id='w44W3IfIXbrE8w',\n",
    "                     client_secret='j0el6C-wFuaSrMlPeA94aCXRWVQ',\n",
    "                     redirect_uri='http://localhost:8080',\n",
    "                     user_agent='testscript by UR')\n",
    "print(reddit.auth.url(['identity'], '...', 'permanent'))\n",
    "    "
   ]
  },
  {
   "cell_type": "code",
   "execution_count": 8,
   "metadata": {},
   "outputs": [
    {
     "name": "stdout",
     "output_type": "stream",
     "text": [
      "And what exactly will that look like?\n",
      "\n",
      "\n",
      "https://www.youtube.com/watch?v=n2RdSS4o88A\n"
     ]
    }
   ],
   "source": [
    "'''submission = reddit.submission(id='ascqma')\n",
    "for top_level_comment in submission.comments:\n",
    "    print(top_level_comment.body)'''"
   ]
  },
  {
   "cell_type": "code",
   "execution_count": null,
   "metadata": {},
   "outputs": [],
   "source": [
    "def getSubComments(comment, allComments, verbose=True):\n",
    "  allComments.append(comment)\n",
    "  if not hasattr(comment, \"replies\"):\n",
    "    replies = comment.comments()\n",
    "    if verbose: print(\"fetching (\" + str(len(allComments)) + \" comments fetched total)\")\n",
    "  else:\n",
    "    replies = comment.replies\n",
    "  for child in replies:\n",
    "    getSubComments(child, allComments, verbose=verbose)\n",
    "\n",
    "\n",
    "def getAll(r, submissionId, verbose=True):\n",
    "  submission = r.submission(submissionId)\n",
    "  comments = submission.comments\n",
    "  commentsList = []\n",
    "  for comment in comments:\n",
    "    getSubComments(comment, commentsList, verbose=verbose)\n",
    "  return commentsList"
   ]
  }
 ],
 "metadata": {
  "kernelspec": {
   "display_name": "Python (topicModeling)",
   "language": "python",
   "name": "topicmodeling"
  },
  "language_info": {
   "codemirror_mode": {
    "name": "ipython",
    "version": 3
   },
   "file_extension": ".py",
   "mimetype": "text/x-python",
   "name": "python",
   "nbconvert_exporter": "python",
   "pygments_lexer": "ipython3",
   "version": "3.7.2"
  }
 },
 "nbformat": 4,
 "nbformat_minor": 2
}
