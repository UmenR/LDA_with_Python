{
 "cells": [
  {
   "cell_type": "code",
   "execution_count": 24,
   "metadata": {},
   "outputs": [],
   "source": [
    "import math\n",
    "import json\n",
    "import requests\n",
    "import itertools\n",
    "import numpy as np\n",
    "import time\n",
    "import praw\n",
    "import json\n",
    "import copy\n",
    "import re\n",
    "import requests\n",
    "from datetime import datetime, timedelta"
   ]
  },
  {
   "cell_type": "code",
   "execution_count": 18,
   "metadata": {},
   "outputs": [],
   "source": [
    "\n",
    "def make_request(uri, max_retries = 5):\n",
    "    current_try = 1\n",
    "    def fire_away(uri,current_try):\n",
    "        if current_try < max_retries:\n",
    "            try:\n",
    "                response = requests.get(uri)\n",
    "                if response.status_code == 200:\n",
    "                    jsonresp = json.loads(response.content)\n",
    "                    if jsonresp['metadata']['timed_out'] == False and jsonresp['metadata']['shards']['failed']==0:\n",
    "                        #and jsonresp['metadata']['shards']['successful']==jsonresp['metadata']['shards']['total']\n",
    "                        return jsonresp\n",
    "                    else:\n",
    "                        current_try+=1\n",
    "                        time.sleep(1)\n",
    "                        fire_away(uri,current_try)  \n",
    "                else:\n",
    "                    current_try+=1\n",
    "                    time.sleep(1)\n",
    "                    fire_away(uri,current_try)\n",
    "            except:\n",
    "                current_try+=1\n",
    "                time.sleep(1)\n",
    "                fire_away(uri,current_try)\n",
    "        else:\n",
    "            print(current_try)\n",
    "            print('Cannot establish connection or wrong uri',uri)\n",
    "            return None\n",
    "    return fire_away(uri,current_try)\n",
    "\n",
    "#make_request('https://api.pushshift.io/reddit/search/submission/?subreddit=PUBATTLEGROUNDS&user_removed=false&mod_removed=false&&fields=selftext,title,author,id&size=1&before=1544745600&after=1544659200&metadata=true')    "
   ]
  },
  {
   "cell_type": "code",
   "execution_count": null,
   "metadata": {},
   "outputs": [
    {
     "name": "stdout",
     "output_type": "stream",
     "text": [
      "****************************1508889600\n"
     ]
    }
   ],
   "source": [
    "\n",
    "def run_per_day(subreddit,start,end):\n",
    "    uri ='https://api.pushshift.io/reddit/search/submission/?subreddit={}&user_removed=false&mod_removed=false&fields=selftext,title,author,id&size=200&after={}&before={}&metadata=true'\n",
    "    uri=uri.format(subreddit,start,end)\n",
    "    print('****************************'+str(start))\n",
    "    response=make_request(uri)\n",
    "    if response != None :\n",
    "        submissionsForToplevel = copy.deepcopy(response)\n",
    "        submissionList = []\n",
    "        #clean special charachters such as zero width spaces occurs quite frequently\n",
    "        punc = \"1234567890!\\\"#$%&'()*+,-/:;<=>?@[\\]^_`{|}~\\n\"\n",
    "        regex = re.compile('[%s]' % re.escape(punc))\n",
    "        for submission in submissionsForToplevel['data']:\n",
    "           submission['gencomments'] = makeObj(submission['id'])\n",
    "           submission['selftext'] = re.sub(r\"http\\S+\", \" \", submission['selftext'])\n",
    "           submission['selftext'] = regex.sub(' ',submission['selftext'])\n",
    "           if submission['gencomments'] == '' or submission['selftext'] == '[removed]' or submission['selftext'] == '[deleted]' or submission['selftext'].isspace() or submission['selftext'] == '':\n",
    "                continue\n",
    "           else:\n",
    "                submission['gencomments'] = re.sub(r\"http\\S+\", \" \", submission['gencomments'])\n",
    "                submission['gencomments'] = regex.sub(' ',submission['gencomments'])\n",
    "                titleandtext = submission['title'] + '.' + submission['selftext']\n",
    "                submission['classifierresults'] = make_request_api(titleandtext)\n",
    "                submissionList.append(submission)\n",
    "        return {'jsonA':submissionList}\n",
    "    else :\n",
    "        return {'jsonA':None}\n",
    "        \n",
    "    \n",
    "    \n",
    "def makeIntervals(start,end):\n",
    "    oneDay = 86400\n",
    "    startTime = start\n",
    "    endTime = start + oneDay\n",
    "    megaTwoLevel = []\n",
    "    while((startTime - 1) != end):\n",
    "        dictSubmissions = run_per_day('PUBATTLEGROUNDS',startTime,endTime)\n",
    "        jsonMA = dictSubmissions.get('jsonA')\n",
    "        if jsonMA != None:\n",
    "            megaTwoLevel.append(jsonMA)\n",
    "        \n",
    "        startTime = (endTime + 1)\n",
    "        endTime += oneDay\n",
    "    \n",
    "    convJsonA = json.dumps(megaTwoLevel)\n",
    "    with open('mega2level.json', 'w') as F:\n",
    "        F.write(convJsonA)\n",
    "        \n",
    "#makeIntervals(1544659200,1544745600)    \n",
    "makeIntervals(1508889600,1540425600)"
   ]
  },
  {
   "cell_type": "code",
   "execution_count": 3,
   "metadata": {},
   "outputs": [
    {
     "name": "stdout",
     "output_type": "stream",
     "text": [
      "https://www.reddit.com/api/v1/authorize?client_id=w44W3IfIXbrE8w&duration=permanent&redirect_uri=http%3A%2F%2Flocalhost%3A8080&response_type=code&scope=identity&state=...\n"
     ]
    }
   ],
   "source": [
    "reddit = praw.Reddit(client_id='w44W3IfIXbrE8w',\n",
    "                     client_secret='j0el6C-wFuaSrMlPeA94aCXRWVQ',\n",
    "                     redirect_uri='http://localhost:8080',\n",
    "                     user_agent='testscript by UR')\n",
    "print(reddit.auth.url(['identity'], '...', 'permanent'))\n",
    "    "
   ]
  },
  {
   "cell_type": "code",
   "execution_count": 4,
   "metadata": {},
   "outputs": [],
   "source": [
    "def makeObj(subid):\n",
    "    submission = reddit.submission(id=subid)\n",
    "    submission.comments.replace_more(limit=None)\n",
    "    commentForrest = ''\n",
    "    for top_level_comment in submission.comments:\n",
    "        commentForrest += ' ' + top_level_comment.body\n",
    "        for second_level_comment in top_level_comment.replies:\n",
    "            commentForrest += ' ' + second_level_comment.body\n",
    "    #print(type(commentForrest))        \n",
    "    return commentForrest\n",
    "\n",
    "def makeCompObj(subid):\n",
    "    submission = reddit.submission(id=subid)\n",
    "    submission.comments.replace_more(limit=None)\n",
    "    commentForrest = ''\n",
    "    for comment in submission.comments.list():\n",
    "        commentForrest += ' ' + comment.body\n",
    "        \n",
    "    return commentForrest\n",
    "    \n",
    "\n"
   ]
  },
  {
   "cell_type": "code",
   "execution_count": null,
   "metadata": {},
   "outputs": [],
   "source": [
    "from string import punctuation\n",
    "import re\n",
    "\n",
    "#text = re.sub(r'^https?:\\/\\/.*[\\r\\n]*', '', text, flags=re.MULTILINE)\n",
    "\n",
    "\n",
    "\n",
    "\n",
    "punc = \"!\\\"#$%&'()*+,-/:;<=>?@[\\]^_`{|}~\\n\"\n",
    "regex = re.compile('[%s]' % re.escape(punc))\n",
    "s='Im a little tpot,short!/\\ /\"and<> \\n\\n\\nmate fat.'\n",
    "text = \"https://www.dotnetperls.com/punctuation-python matee but this also has ///-/:;<=>?@[\\]^_  /n and \\n what now\"\n",
    "text = re.sub(r\"http\\S+\", \"\", text)\n",
    "print(text)\n",
    "def strip_punctuation(s):\n",
    "    return regex.sub('', s)\n",
    "\n",
    "strip_punctuation(s)\n",
    "\n",
    "\n",
    "#yourString.isspace()"
   ]
  },
  {
   "cell_type": "code",
   "execution_count": 39,
   "metadata": {},
   "outputs": [],
   "source": [
    "def make_request_api(data,max_retries = 2):\n",
    "    #print(data)\n",
    "    uri = 'http://ec2-18-191-179-70.us-east-2.compute.amazonaws.com:8080/intentclassifier/rest/classify'\n",
    "    current_try = 1\n",
    "    def fire_away(uri,current_try):\n",
    "        if current_try < max_retries:\n",
    "            try:\n",
    "                r = requests.post(uri,data={'titleandtext':data})\n",
    "                if r.status_code == 200:\n",
    "                    res = r.text\n",
    "                    return json.loads(res)  \n",
    "                else:\n",
    "                    current_try+=1\n",
    "                    time.sleep(2)\n",
    "                    fire_away(uri,current_try)\n",
    "            except:\n",
    "                current_try+=1\n",
    "                time.sleep(2)\n",
    "                fire_away(uri,current_try)\n",
    "        else:\n",
    "            print('Cannot establish connection or wrong uri',uri)\n",
    "            return None\n",
    "    return fire_away(uri,current_try)\n",
    "\n",
    "#make_request_api('this game is good.But there are some crashes please fix')"
   ]
  },
  {
   "cell_type": "code",
   "execution_count": null,
   "metadata": {},
   "outputs": [],
   "source": [
    "import json\n",
    "s = '{\"other\":\"1\",\"inforeq\":\"0\",\"bug\":\"1\",\"suggestion\":\"0\",\"infogive\":\"0\"}'\n",
    "resss = json.loads(s)\n",
    "print(resss)"
   ]
  },
  {
   "cell_type": "code",
   "execution_count": null,
   "metadata": {},
   "outputs": [],
   "source": []
  }
 ],
 "metadata": {
  "kernelspec": {
   "display_name": "Python (topicModeling)",
   "language": "python",
   "name": "topicmodeling"
  },
  "language_info": {
   "codemirror_mode": {
    "name": "ipython",
    "version": 3
   },
   "file_extension": ".py",
   "mimetype": "text/x-python",
   "name": "python",
   "nbconvert_exporter": "python",
   "pygments_lexer": "ipython3",
   "version": "3.7.2"
  }
 },
 "nbformat": 4,
 "nbformat_minor": 2
}
